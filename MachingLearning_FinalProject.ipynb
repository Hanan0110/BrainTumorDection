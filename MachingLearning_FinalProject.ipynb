{
  "nbformat": 4,
  "nbformat_minor": 0,
  "metadata": {
    "colab": {
      "name": "MachingLearning_FinalProject.ipynb",
      "provenance": [],
      "collapsed_sections": []
    },
    "kernelspec": {
      "name": "python3",
      "display_name": "Python 3"
    },
    "language_info": {
      "name": "python"
    },
    "accelerator": "GPU"
  },
  "cells": [
    {
      "cell_type": "code",
      "execution_count": null,
      "metadata": {
        "id": "Rh18DR_OEFVt"
      },
      "outputs": [],
      "source": [
        "from keras.models import Sequential\n",
        "from keras.layers import Dense,Dropout,Flatten, Activation\n",
        "from keras.layers.convolutional import Conv2D,MaxPooling2D\n",
        "from keras.utils import np_utils\n",
        "from sklearn.model_selection import train_test_split\n",
        "from sklearn.metrics import accuracy_score\n",
        "import matplotlib.pyplot as plt\n",
        "import numpy as np\n",
        "import pandas as pd\n",
        "import random\n",
        "import cv2\n",
        "import os"
      ]
    },
    {
      "cell_type": "code",
      "source": [
        "from google.colab import drive\n",
        "drive.mount('/content/drive')"
      ],
      "metadata": {
        "id": "3ChsctEYMj9s",
        "colab": {
          "base_uri": "https://localhost:8080/"
        },
        "outputId": "966f991a-77b7-4a7c-91f9-2d3649284e60"
      },
      "execution_count": null,
      "outputs": [
        {
          "output_type": "stream",
          "name": "stdout",
          "text": [
            "Mounted at /content/drive\n"
          ]
        }
      ]
    },
    {
      "cell_type": "markdown",
      "source": [
        "**Initialize Variables**"
      ],
      "metadata": {
        "id": "Tqlnpm3vT5cf"
      }
    },
    {
      "cell_type": "code",
      "source": [
        "tumorType = ['no_tumor','pituitary_tumor','meningioma_tumor','glioma_tumor']\n",
        "labelValues = []\n",
        "imagesData = []\n",
        "folderPath =  '/content/drive/MyDrive/MachineLearning_FinalProj/BrainTumor_Data/'"
      ],
      "metadata": {
        "id": "drb8Jp4FUIzG"
      },
      "execution_count": null,
      "outputs": []
    },
    {
      "cell_type": "markdown",
      "source": [
        "**Loading the dataset (Converting it from Images to pixels)**"
      ],
      "metadata": {
        "id": "sbmTuo0IULSu"
      }
    },
    {
      "cell_type": "code",
      "source": [
        "for Ttype in range(len(tumorType)):\n",
        "  foldername = os.path.join(folderPath, tumorType[Ttype])\n",
        "  for image in os.listdir(foldername):\n",
        "     imgValue = cv2.imread(os.path.join(foldername, image))\n",
        "     imgValue = cv2.resize(imgValue,(200,200))\n",
        "     imgValue = imgValue.reshape(200,200,3)\n",
        "     imagesData.append(imgValue)\n",
        "     labelValues.append(Ttype)\n",
        "\n",
        "arrayImagesdata = np.asarray(imagesData)\n",
        "arrayLabelvalues = np.asarray(labelValues)"
      ],
      "metadata": {
        "id": "RDCjO-9jMvFu"
      },
      "execution_count": null,
      "outputs": []
    },
    {
      "cell_type": "markdown",
      "source": [
        "**Splitting the data into**\n",
        "\n",
        "1.   60 % Training\n",
        "2.   25 % Test\n",
        "3.   15 % Validation\n",
        "\n",
        "\n",
        "\n",
        "\n",
        "\n"
      ],
      "metadata": {
        "id": "B41ob5rNUYc-"
      }
    },
    {
      "cell_type": "code",
      "source": [
        "X_train,X_test,y_train,y_test=train_test_split(arrayImagesdata, arrayLabelvalues,test_size=0.25, shuffle=True, random_state=42)\n",
        "X_train, X_val, y_train, y_val = train_test_split(X_train, y_train, test_size=0.2,shuffle=True,random_state=42) # 0.2 x 0.7 = 0.15"
      ],
      "metadata": {
        "id": "E0qrxXztUXVA"
      },
      "execution_count": null,
      "outputs": []
    },
    {
      "cell_type": "markdown",
      "source": [
        "**Normalizing the training and testing data (from 0-255 pixels to 0-1)**"
      ],
      "metadata": {
        "id": "Gayygq2_VF3C"
      }
    },
    {
      "cell_type": "code",
      "source": [
        "X_train = X_train / 255.0\n",
        "X_test = X_test / 255.0\n",
        "X_val = X_val / 255.0"
      ],
      "metadata": {
        "id": "kKUTWKjsVJpI"
      },
      "execution_count": null,
      "outputs": []
    },
    {
      "cell_type": "markdown",
      "source": [
        "**Hot Encoding the outputs**\n"
      ],
      "metadata": {
        "id": "xN_QkVyoVh7y"
      }
    },
    {
      "cell_type": "code",
      "source": [
        "y_train = np_utils.to_categorical(y_train)\n",
        "y_test = np_utils.to_categorical(y_test)\n",
        "y_val = np_utils.to_categorical(y_val)"
      ],
      "metadata": {
        "id": "3vZGWvMlVjSD"
      },
      "execution_count": null,
      "outputs": []
    },
    {
      "cell_type": "code",
      "source": [
        "print (\"X_train data shape:\")\n",
        "print (X_train.shape)\n",
        "print (\"y_train label shape:\")\n",
        "print (y_train.shape)\n",
        "print(\"\\n\")\n",
        "\n",
        "print (\"X_test data shape:\")\n",
        "print (X_test.shape)\n",
        "print (\"y_test label shape:\")\n",
        "print (y_test.shape)\n",
        "print(\"\\n\")\n",
        "\n",
        "print (\"val_train label shape:\")\n",
        "print (X_val.shape)\n",
        "print (\"val_test label shape:\")\n",
        "print (y_val.shape)"
      ],
      "metadata": {
        "colab": {
          "base_uri": "https://localhost:8080/"
        },
        "id": "ThiZxywb7rQ9",
        "outputId": "2df0953c-66d2-488d-cccd-55f88e7b0a44"
      },
      "execution_count": null,
      "outputs": [
        {
          "output_type": "stream",
          "name": "stdout",
          "text": [
            "X_train data shape:\n",
            "(1958, 200, 200, 3)\n",
            "y_train label shape:\n",
            "(1958, 4)\n",
            "\n",
            "\n",
            "X_test data shape:\n",
            "(816, 200, 200, 3)\n",
            "y_test label shape:\n",
            "(816, 4)\n",
            "\n",
            "\n",
            "val_train label shape:\n",
            "(490, 200, 200, 3)\n",
            "val_test label shape:\n",
            "(490, 4)\n"
          ]
        }
      ]
    },
    {
      "cell_type": "markdown",
      "source": [
        "**Creating a Convolutional neural network (CNN) model**"
      ],
      "metadata": {
        "id": "P08K249UZYv0"
      }
    },
    {
      "cell_type": "code",
      "source": [
        " model = Sequential([\n",
        "    Conv2D(16, (3, 3), padding=\"same\",input_shape=(200,200,3), activation='relu'),\n",
        "    MaxPooling2D(pool_size=(2, 2)),\n",
        "    \n",
        "    Dropout(0.4),\n",
        "\n",
        "    Conv2D(32, (3, 3), activation='relu',padding = 'same',strides=1),\n",
        "    MaxPooling2D(pool_size=(2, 2)),\n",
        "\n",
        "    Conv2D(64, (3, 3), activation='relu',padding = 'same',strides=1),\n",
        "    MaxPooling2D(pool_size=(2, 2)),\n",
        "\n",
        "    Conv2D(128, (3, 3), activation='relu',padding = 'same',strides=1),\n",
        "    MaxPooling2D(pool_size=(2, 2)),\n",
        "\n",
        "    Dropout(0.4),\n",
        "    Flatten(),\n",
        "    Dense(100, activation='relu'),\n",
        "\n",
        "    Dropout(0.4),\n",
        "    Dense(64, activation='relu'),\n",
        "\n",
        "    Dense(4, activation='softmax')\n",
        " ])\n",
        "\n",
        "    \n",
        " model.summary()"
      ],
      "metadata": {
        "colab": {
          "base_uri": "https://localhost:8080/"
        },
        "id": "w8QkgYMWTv57",
        "outputId": "cfd2dc0b-d42f-4b76-8169-ca7ff8367839"
      },
      "execution_count": null,
      "outputs": [
        {
          "output_type": "stream",
          "name": "stdout",
          "text": [
            "Model: \"sequential_1\"\n",
            "_________________________________________________________________\n",
            " Layer (type)                Output Shape              Param #   \n",
            "=================================================================\n",
            " conv2d_4 (Conv2D)           (None, 200, 200, 16)      448       \n",
            "                                                                 \n",
            " max_pooling2d_4 (MaxPooling  (None, 100, 100, 16)     0         \n",
            " 2D)                                                             \n",
            "                                                                 \n",
            " dropout_3 (Dropout)         (None, 100, 100, 16)      0         \n",
            "                                                                 \n",
            " conv2d_5 (Conv2D)           (None, 100, 100, 32)      4640      \n",
            "                                                                 \n",
            " max_pooling2d_5 (MaxPooling  (None, 50, 50, 32)       0         \n",
            " 2D)                                                             \n",
            "                                                                 \n",
            " conv2d_6 (Conv2D)           (None, 50, 50, 64)        18496     \n",
            "                                                                 \n",
            " max_pooling2d_6 (MaxPooling  (None, 25, 25, 64)       0         \n",
            " 2D)                                                             \n",
            "                                                                 \n",
            " conv2d_7 (Conv2D)           (None, 25, 25, 128)       73856     \n",
            "                                                                 \n",
            " max_pooling2d_7 (MaxPooling  (None, 12, 12, 128)      0         \n",
            " 2D)                                                             \n",
            "                                                                 \n",
            " dropout_4 (Dropout)         (None, 12, 12, 128)       0         \n",
            "                                                                 \n",
            " flatten_1 (Flatten)         (None, 18432)             0         \n",
            "                                                                 \n",
            " dense_3 (Dense)             (None, 100)               1843300   \n",
            "                                                                 \n",
            " dropout_5 (Dropout)         (None, 100)               0         \n",
            "                                                                 \n",
            " dense_4 (Dense)             (None, 64)                6464      \n",
            "                                                                 \n",
            " dense_5 (Dense)             (None, 4)                 260       \n",
            "                                                                 \n",
            "=================================================================\n",
            "Total params: 1,947,464\n",
            "Trainable params: 1,947,464\n",
            "Non-trainable params: 0\n",
            "_________________________________________________________________\n"
          ]
        }
      ]
    },
    {
      "cell_type": "markdown",
      "source": [
        "**Compiling the model**"
      ],
      "metadata": {
        "id": "P_Qs20UuauOz"
      }
    },
    {
      "cell_type": "code",
      "source": [
        "model.compile(loss='categorical_crossentropy', optimizer='adam', metrics=['accuracy'])"
      ],
      "metadata": {
        "id": "jtY0PGXcaxAO"
      },
      "execution_count": null,
      "outputs": []
    },
    {
      "cell_type": "markdown",
      "source": [
        "**Training the Model**"
      ],
      "metadata": {
        "id": "6GKh-7Qqa2wH"
      }
    },
    {
      "cell_type": "code",
      "source": [
        "history = model.fit(X_train, y_train, validation_data=(X_test, y_test), epochs=20, batch_size=128, verbose=1)"
      ],
      "metadata": {
        "colab": {
          "base_uri": "https://localhost:8080/"
        },
        "id": "lunIP5rNbDSA",
        "outputId": "3b85f135-9153-4a34-fc89-fa41af795de1"
      },
      "execution_count": null,
      "outputs": [
        {
          "output_type": "stream",
          "name": "stdout",
          "text": [
            "Epoch 1/20\n",
            "16/16 [==============================] - 5s 266ms/step - loss: 1.3297 - accuracy: 0.3887 - val_loss: 1.2804 - val_accuracy: 0.4865\n",
            "Epoch 2/20\n",
            "16/16 [==============================] - 3s 205ms/step - loss: 1.1527 - accuracy: 0.4883 - val_loss: 1.0800 - val_accuracy: 0.5833\n",
            "Epoch 3/20\n",
            "16/16 [==============================] - 3s 206ms/step - loss: 0.9993 - accuracy: 0.5700 - val_loss: 0.9662 - val_accuracy: 0.6324\n",
            "Epoch 4/20\n",
            "16/16 [==============================] - 3s 203ms/step - loss: 0.9227 - accuracy: 0.6098 - val_loss: 0.8414 - val_accuracy: 0.7034\n",
            "Epoch 5/20\n",
            "16/16 [==============================] - 3s 204ms/step - loss: 0.8108 - accuracy: 0.6568 - val_loss: 0.8033 - val_accuracy: 0.7071\n",
            "Epoch 6/20\n",
            "16/16 [==============================] - 3s 205ms/step - loss: 0.7512 - accuracy: 0.6767 - val_loss: 0.7585 - val_accuracy: 0.6654\n",
            "Epoch 7/20\n",
            "16/16 [==============================] - 3s 205ms/step - loss: 0.7156 - accuracy: 0.6890 - val_loss: 0.7030 - val_accuracy: 0.7169\n",
            "Epoch 8/20\n",
            "16/16 [==============================] - 3s 207ms/step - loss: 0.6425 - accuracy: 0.7293 - val_loss: 0.6490 - val_accuracy: 0.7365\n",
            "Epoch 9/20\n",
            "16/16 [==============================] - 3s 206ms/step - loss: 0.5811 - accuracy: 0.7712 - val_loss: 0.6967 - val_accuracy: 0.7096\n",
            "Epoch 10/20\n",
            "16/16 [==============================] - 3s 208ms/step - loss: 0.5446 - accuracy: 0.7758 - val_loss: 0.5545 - val_accuracy: 0.7990\n",
            "Epoch 11/20\n",
            "16/16 [==============================] - 3s 207ms/step - loss: 0.4919 - accuracy: 0.8008 - val_loss: 0.8013 - val_accuracy: 0.6838\n",
            "Epoch 12/20\n",
            "16/16 [==============================] - 3s 205ms/step - loss: 0.5261 - accuracy: 0.7763 - val_loss: 0.5023 - val_accuracy: 0.8248\n",
            "Epoch 13/20\n",
            "16/16 [==============================] - 3s 206ms/step - loss: 0.4842 - accuracy: 0.8008 - val_loss: 0.5945 - val_accuracy: 0.7647\n",
            "Epoch 14/20\n",
            "16/16 [==============================] - 3s 207ms/step - loss: 0.4353 - accuracy: 0.8166 - val_loss: 0.4701 - val_accuracy: 0.8321\n",
            "Epoch 15/20\n",
            "16/16 [==============================] - 3s 206ms/step - loss: 0.4046 - accuracy: 0.8437 - val_loss: 0.5068 - val_accuracy: 0.8113\n",
            "Epoch 16/20\n",
            "16/16 [==============================] - 3s 208ms/step - loss: 0.3473 - accuracy: 0.8636 - val_loss: 0.5110 - val_accuracy: 0.8100\n",
            "Epoch 17/20\n",
            "16/16 [==============================] - 3s 207ms/step - loss: 0.3120 - accuracy: 0.8708 - val_loss: 0.5100 - val_accuracy: 0.8064\n",
            "Epoch 18/20\n",
            "16/16 [==============================] - 3s 208ms/step - loss: 0.2968 - accuracy: 0.8779 - val_loss: 0.5299 - val_accuracy: 0.8162\n",
            "Epoch 19/20\n",
            "16/16 [==============================] - 3s 207ms/step - loss: 0.2741 - accuracy: 0.8948 - val_loss: 0.5505 - val_accuracy: 0.8100\n",
            "Epoch 20/20\n",
            "16/16 [==============================] - 3s 207ms/step - loss: 0.2714 - accuracy: 0.9009 - val_loss: 0.4054 - val_accuracy: 0.8725\n"
          ]
        }
      ]
    },
    {
      "cell_type": "code",
      "source": [
        "valLoss, testAccuracy = model.evaluate(X_test, y_test,batch_size=32)\n",
        "print('Test loss:', valLoss)\n",
        "print('Test accuracy:', testAccuracy)"
      ],
      "metadata": {
        "colab": {
          "base_uri": "https://localhost:8080/"
        },
        "id": "J6ZsKkXWdTyd",
        "outputId": "079a9c31-57d5-4198-d80f-b97f13f44db6"
      },
      "execution_count": null,
      "outputs": [
        {
          "output_type": "stream",
          "name": "stdout",
          "text": [
            "26/26 [==============================] - 1s 28ms/step - loss: 0.4054 - accuracy: 0.8725\n",
            "Test loss: 0.4054100215435028\n",
            "Test accuracy: 0.8725489974021912\n"
          ]
        }
      ]
    },
    {
      "cell_type": "markdown",
      "source": [
        "**Visual representation of the model's accuracy**"
      ],
      "metadata": {
        "id": "toAh2JmsXgLz"
      }
    },
    {
      "cell_type": "code",
      "source": [
        "plt.plot(range(20),history.history['loss'])\n",
        "plt.plot(range(20),history.history['val_loss'])\n",
        "plt.xlabel('num of Epochs')\n",
        "plt.title('Loss vs Test_Loss')\n",
        "plt.legend(['train','val'])\n",
        "plt.grid(True)\n",
        "plt.show()\n",
        "\n",
        "print(\"\\n\")\n",
        "\n",
        "plt.plot(range(20),history.history['accuracy'])\n",
        "plt.plot(range(20),history.history['val_accuracy'])\n",
        "plt.xlabel('num of Epochs')\n",
        "plt.title('Train Accuracy vs Loss Train Accuracy')\n",
        "plt.grid(True)\n",
        "plt.legend(['train','val'],loc = \"upper left\")\n",
        "plt.show()\n"
      ],
      "metadata": {
        "colab": {
          "base_uri": "https://localhost:8080/",
          "height": 608
        },
        "id": "3frtjKnOXhSh",
        "outputId": "03a05ac9-949a-446f-af27-80fd8cc543e4"
      },
      "execution_count": null,
      "outputs": [
        {
          "output_type": "display_data",
          "data": {
            "image/png": "[encoded data removed]",
            "text/plain": [
              "<Figure size 432x288 with 1 Axes>"
            ]
          },
          "metadata": {
            "needs_background": "light"
          }
        },
        {
          "output_type": "stream",
          "name": "stdout",
          "text": [
            "\n",
            "\n"
          ]
        },
        {
          "output_type": "display_data",
          "data": {
            "image/png": "[encoded data removed]",
            "text/plain": [
              "<Figure size 432x288 with 1 Axes>"
            ]
          },
          "metadata": {
            "needs_background": "light"
          }
        }
      ]
    },
    {
      "cell_type": "markdown",
      "source": [
        "**Testing the Model**\n",
        "(Compare a randomly selected image with the actual result)\n"
      ],
      "metadata": {
        "id": "w4W-QnCiPLVB"
      }
    },
    {
      "cell_type": "code",
      "source": [
        "randomNumber = random.randint(0, X_val.shape[0])\n",
        "prediction = model.predict(X_val)\n",
        "pT = tumorType[np.argmax(prediction[randomNumber], axis=0)]\n",
        "aT = tumorType[np.where(y_val[randomNumber] == 1)[0][0]]\n",
        "\n",
        "plt.imshow(X_val[randomNumber])\n",
        "plt.title(\"Sample MRI Scan\")\n",
        "\n",
        "print(\"Prediction Matrix:\", prediction[randomNumber])\n",
        "print(\"Predicted tumor type: \", pT)\n",
        "print(\"Actual Tumor Type:\", aT)\n",
        "print(\"\\n\")\n",
        "\n",
        "if(pT == aT):\n",
        "  print(\"***** MATCHED :) *****\")\n",
        "  print(\"\\n\")\n",
        "else:\n",
        "  print(\"***** NOT MATCHED :( *****\")\n",
        "  print(\"\\n\")\n",
        "\n",
        "\n"
      ],
      "metadata": {
        "colab": {
          "base_uri": "https://localhost:8080/",
          "height": 420
        },
        "id": "KngqBhVfPQ8J",
        "outputId": "7faea7c7-a035-49f6-907e-c98063ce269f"
      },
      "execution_count": null,
      "outputs": [
        {
          "output_type": "stream",
          "name": "stdout",
          "text": [
            "Prediction Matrix: [3.5266747e-04 4.0271343e-04 1.2981333e-02 9.8626328e-01]\n",
            "Predicted tumor type:  glioma_tumor\n",
            "Actual Tumor Type: glioma_tumor\n",
            "\n",
            "\n",
            "***** MATCHED :) *****\n",
            "\n",
            "\n"
          ]
        },
        {
          "output_type": "display_data",
          "data": {
            "image/png": "[encoded data removed]",
            "text/plain": [
              "<Figure size 432x288 with 1 Axes>"
            ]
          },
          "metadata": {
            "needs_background": "light"
          }
        }
      ]
    },
    {
      "cell_type": "markdown",
      "source": [
        "**Validate model using unseen data**"
      ],
      "metadata": {
        "id": "Clh7o6NBgheg"
      }
    },
    {
      "cell_type": "code",
      "source": [
        "pTArrray = []\n",
        "aTArrray = []\n",
        "\n",
        "for i in range(X_val.shape[0]):\n",
        "  pTArrray.append(np.argmax(prediction[i], axis=0))\n",
        "  aTArrray.append(np.where(y_val[i] == 1)[0][0])\n",
        "\n",
        "accuracy = accuracy_score(aTArrray, pTArrray)\n",
        "print(\"Accuracy score over validation data: \",accuracy)"
      ],
      "metadata": {
        "colab": {
          "base_uri": "https://localhost:8080/"
        },
        "id": "kzDJYU8SVFok",
        "outputId": "a9d09ae8-216b-4c3e-e1ff-6605e32ac160"
      },
      "execution_count": null,
      "outputs": [
        {
          "output_type": "stream",
          "name": "stdout",
          "text": [
            "Accuracy score over validation data:  0.8673469387755102\n"
          ]
        }
      ]
    },
    {
      "cell_type": "markdown",
      "source": [
        "**Confusion Matrix**"
      ],
      "metadata": {
        "id": "_2eawqhASb3f"
      }
    },
    {
      "cell_type": "code",
      "source": [
        "pTArrrayType= []\n",
        "aTArrrayType = []\n",
        "\n",
        "for i in range(X_val.shape[0]):\n",
        "  pTArrrayType.append(tumorType[np.argmax(prediction[i], axis=0)])\n",
        "  aTArrrayType.append(tumorType[np.where(y_val[i] == 1)[0][0]])\n",
        "\n",
        "data = {'y_Actual':    aTArrrayType,\n",
        "        'y_Predicted': pTArrrayType\n",
        "        }\n",
        "\n",
        "df = pd.DataFrame(data, columns=['y_Actual','y_Predicted'])\n",
        "\n",
        "confusion_matrix = pd.crosstab(df['y_Actual'], df['y_Predicted'], rownames=['Actual'], colnames=['Predicted'])\n",
        "print (confusion_matrix)"
      ],
      "metadata": {
        "colab": {
          "base_uri": "https://localhost:8080/"
        },
        "id": "XS-yAd0_SgIX",
        "outputId": "2d751132-058d-4701-8cda-ee879805b66b"
      },
      "execution_count": null,
      "outputs": [
        {
          "output_type": "stream",
          "name": "stdout",
          "text": [
            "Predicted         glioma_tumor  meningioma_tumor  no_tumor  pituitary_tumor\n",
            "Actual                                                                     \n",
            "glioma_tumor               129                12         9                3\n",
            "meningioma_tumor            17               110         2               11\n",
            "no_tumor                     2                 6        46                1\n",
            "pituitary_tumor              1                 1         0              140\n"
          ]
        }
      ]
    }
  ]
}